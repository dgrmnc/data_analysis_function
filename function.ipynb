def dataset_info(df):
    print("Some informations will be listed below:")

    print("\nShape of the dataset: ")
    print(f"Rows: {df.shape[0]},  Columns: {df.shape[1]}")

    # column infos will be shown here
    print("\nColumns type: ")
    int_types = df.select_dtypes(include=['int64','int']).columns.tolist()
    float_types = df.select_dtypes(include=['float', 'float64']).columns.tolist()
    string_types = df.select_dtypes(['object', 'string']).columns.tolist()
    date_types = df.select_dtypes(include=['datetime64[ns]', 'datetimetz']).columns.tolist() 

    print("Integer: ", int_types if int_types else 'No Int type column(s)') # f"Total number of Integer columns is {len(int_types)}:"
    print("Float: ", float_types if float_types else 'No float type column(s)')
    print("String: ", string_types if string_types else 'No string type column(s)')
    print("Datetime: ", date_types if date_types else 'No datetime column(s)')

    print("\nNull values & columns: ")
    null_df = df.isnull().sum()
    null_df = null_df[null_df > 0 ]
    print(null_df)

dataset_info(df)
