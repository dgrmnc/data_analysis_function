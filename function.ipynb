{
 "cells": [
  {
   "cell_type": "code",
   "execution_count": null,
   "metadata": {},
   "outputs": [],
   "source": [
    "def dataset_info(df):\n",
    "    print(\"Some informations will be listed below:\")\n",
    "\n",
    "    print(\"\\nShape of the dataset: \")\n",
    "    print(f\"Rows: {df.shape[0]},  Columns: {df.shape[1]}\")\n",
    "\n",
    "    # column infos will be shown here\n",
    "    print(\"\\nColumns type: \")\n",
    "    int_types = df.select_dtypes(include=['int64','int']).columns.tolist()\n",
    "    float_types = df.select_dtypes(include=['float', 'float64']).columns.tolist()\n",
    "    string_types = df.select_dtypes(['object', 'string']).columns.tolist()\n",
    "    date_types = df.select_dtypes(include=['datetime64[ns]', 'datetimetz']).columns.tolist() \n",
    "\n",
    "    print(\"Integer: \", int_types if int_types else 'No Int type column(s)') # f\"Total number of Integer columns is {len(int_types)}:\"\n",
    "    print(\"Float: \", float_types if float_types else 'No float type column(s)')\n",
    "    print(\"String: \", string_types if string_types else 'No string type column(s)')\n",
    "    print(\"Datetime: \", date_types if date_types else 'No datetime column(s)')\n",
    "\n",
    "    print(\"\\nNull values & columns: \")\n",
    "    null_df = df.isnull().sum()\n",
    "    null_df = null_df[null_df > 0 ]\n",
    "    print(null_df)\n",
    "\n",
    "dataset_info(df)"
   ]
  }
 ],
 "metadata": {
  "language_info": {
   "name": "python"
  },
  "orig_nbformat": 4
 },
 "nbformat": 4,
 "nbformat_minor": 2
}
